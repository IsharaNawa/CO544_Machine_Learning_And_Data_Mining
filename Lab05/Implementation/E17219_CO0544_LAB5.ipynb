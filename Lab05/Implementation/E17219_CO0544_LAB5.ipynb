{
  "nbformat": 4,
  "nbformat_minor": 0,
  "metadata": {
    "colab": {
      "name": "E17219_CO0544_LAB5.ipynb",
      "provenance": [],
      "collapsed_sections": []
    },
    "kernelspec": {
      "name": "python3",
      "display_name": "Python 3"
    },
    "language_info": {
      "name": "python"
    }
  },
  "cells": [
    {
      "cell_type": "markdown",
      "source": [
        "#E/17/219\n",
        "#Nawarathna K.G.I.S.\n",
        "#CO544 : Lab 05"
      ],
      "metadata": {
        "id": "PpaWjYUZXgRb"
      }
    },
    {
      "cell_type": "code",
      "execution_count": 90,
      "metadata": {
        "id": "QR4mVx6rAkhd"
      },
      "outputs": [],
      "source": [
        "#importing libraries\n",
        "import pandas as pd\n",
        "from sklearn.tree import DecisionTreeClassifier     # Decision tree classifier\n",
        "from sklearn.model_selection import train_test_split\n",
        "from sklearn import metrics                         # scikit-learn metrics module for computing accuracy"
      ]
    },
    {
      "cell_type": "code",
      "source": [
        "#importing warnings to ignore them\n",
        "import warnings\n",
        "warnings.filterwarnings('ignore')                   # Ignore warning messages"
      ],
      "metadata": {
        "id": "PUga0E-pXfAu"
      },
      "execution_count": 91,
      "outputs": []
    },
    {
      "cell_type": "code",
      "source": [
        "#filename of the dataset file\n",
        "filename = \"wine.csv\""
      ],
      "metadata": {
        "id": "MyKU-3S1XFWS"
      },
      "execution_count": 92,
      "outputs": []
    },
    {
      "cell_type": "markdown",
      "source": [
        "##Loading the dataset"
      ],
      "metadata": {
        "id": "uiUp6glfCeaa"
      }
    },
    {
      "cell_type": "code",
      "source": [
        "#read the dataset as a csv file by seperating each rows by a new line\n",
        "wine_df = pd.read_csv(filename,header=None, sep='\\n')\n",
        "\n",
        "#turn the row into a string and seperate that using the comma\n",
        "wine_df = wine_df[0].str.split(',', expand=True)\n",
        "\n",
        "#drop the last row\n",
        "wine_df = wine_df.drop(wine_df.columns[14],axis=1)\n",
        "\n",
        "#get the new dataset after dropping the heading of the dataset\n",
        "wine_df = wine_df.drop(index=0)\n",
        "\n",
        "#print the head of the dataset\n",
        "wine_df.head(10)"
      ],
      "metadata": {
        "colab": {
          "base_uri": "https://localhost:8080/",
          "height": 363
        },
        "id": "s56gglP-z8sW",
        "outputId": "cbd57d0b-b398-477d-c6b1-5115a47c7169"
      },
      "execution_count": 93,
      "outputs": [
        {
          "output_type": "execute_result",
          "data": {
            "text/plain": [
              "       0     1     2     3    4     5     6     7     8     9     10    11  \\\n",
              "1   14.23  1.71  2.43  15.6  127   2.8  3.06  0.28  2.29  5.64  1.04  3.92   \n",
              "2    13.2  1.78  2.14  11.2  100  2.65  2.76  0.26  1.28  4.38  1.05   3.4   \n",
              "3   13.16  2.36  2.67  18.6  101   2.8  3.24   0.3  2.81  5.68  1.03  3.17   \n",
              "4   14.37  1.95   2.5  16.8  113  3.85  3.49  0.24  2.18   7.8  0.86  3.45   \n",
              "5   13.24  2.59  2.87    21  118   2.8  2.69  0.39  1.82  4.32  1.04  2.93   \n",
              "6    14.2  1.76  2.45  15.2  112  3.27  3.39  0.34  1.97  6.75  1.05  2.85   \n",
              "7   14.39  1.87  2.45  14.6   96   2.5  2.52   0.3  1.98  5.25  1.02  3.58   \n",
              "8   14.06  2.15  2.61  17.6  121   2.6  2.51  0.31  1.25  5.05  1.06  3.58   \n",
              "9   14.83  1.64  2.17    14   97   2.8  2.98  0.29  1.98   5.2  1.08  2.85   \n",
              "10  13.86  1.35  2.27    16   98  2.98  3.15  0.22  1.85  7.22  1.01  3.55   \n",
              "\n",
              "      12 13  \n",
              "1   1065  1  \n",
              "2   1050  1  \n",
              "3   1185  1  \n",
              "4   1480  1  \n",
              "5    735  1  \n",
              "6   1450  1  \n",
              "7   1290  1  \n",
              "8   1295  1  \n",
              "9   1045  1  \n",
              "10  1045  1  "
            ],
            "text/html": [
              "\n",
              "  <div id=\"df-e0092910-af96-4672-8468-bfec5cd493dc\">\n",
              "    <div class=\"colab-df-container\">\n",
              "      <div>\n",
              "<style scoped>\n",
              "    .dataframe tbody tr th:only-of-type {\n",
              "        vertical-align: middle;\n",
              "    }\n",
              "\n",
              "    .dataframe tbody tr th {\n",
              "        vertical-align: top;\n",
              "    }\n",
              "\n",
              "    .dataframe thead th {\n",
              "        text-align: right;\n",
              "    }\n",
              "</style>\n",
              "<table border=\"1\" class=\"dataframe\">\n",
              "  <thead>\n",
              "    <tr style=\"text-align: right;\">\n",
              "      <th></th>\n",
              "      <th>0</th>\n",
              "      <th>1</th>\n",
              "      <th>2</th>\n",
              "      <th>3</th>\n",
              "      <th>4</th>\n",
              "      <th>5</th>\n",
              "      <th>6</th>\n",
              "      <th>7</th>\n",
              "      <th>8</th>\n",
              "      <th>9</th>\n",
              "      <th>10</th>\n",
              "      <th>11</th>\n",
              "      <th>12</th>\n",
              "      <th>13</th>\n",
              "    </tr>\n",
              "  </thead>\n",
              "  <tbody>\n",
              "    <tr>\n",
              "      <th>1</th>\n",
              "      <td>14.23</td>\n",
              "      <td>1.71</td>\n",
              "      <td>2.43</td>\n",
              "      <td>15.6</td>\n",
              "      <td>127</td>\n",
              "      <td>2.8</td>\n",
              "      <td>3.06</td>\n",
              "      <td>0.28</td>\n",
              "      <td>2.29</td>\n",
              "      <td>5.64</td>\n",
              "      <td>1.04</td>\n",
              "      <td>3.92</td>\n",
              "      <td>1065</td>\n",
              "      <td>1</td>\n",
              "    </tr>\n",
              "    <tr>\n",
              "      <th>2</th>\n",
              "      <td>13.2</td>\n",
              "      <td>1.78</td>\n",
              "      <td>2.14</td>\n",
              "      <td>11.2</td>\n",
              "      <td>100</td>\n",
              "      <td>2.65</td>\n",
              "      <td>2.76</td>\n",
              "      <td>0.26</td>\n",
              "      <td>1.28</td>\n",
              "      <td>4.38</td>\n",
              "      <td>1.05</td>\n",
              "      <td>3.4</td>\n",
              "      <td>1050</td>\n",
              "      <td>1</td>\n",
              "    </tr>\n",
              "    <tr>\n",
              "      <th>3</th>\n",
              "      <td>13.16</td>\n",
              "      <td>2.36</td>\n",
              "      <td>2.67</td>\n",
              "      <td>18.6</td>\n",
              "      <td>101</td>\n",
              "      <td>2.8</td>\n",
              "      <td>3.24</td>\n",
              "      <td>0.3</td>\n",
              "      <td>2.81</td>\n",
              "      <td>5.68</td>\n",
              "      <td>1.03</td>\n",
              "      <td>3.17</td>\n",
              "      <td>1185</td>\n",
              "      <td>1</td>\n",
              "    </tr>\n",
              "    <tr>\n",
              "      <th>4</th>\n",
              "      <td>14.37</td>\n",
              "      <td>1.95</td>\n",
              "      <td>2.5</td>\n",
              "      <td>16.8</td>\n",
              "      <td>113</td>\n",
              "      <td>3.85</td>\n",
              "      <td>3.49</td>\n",
              "      <td>0.24</td>\n",
              "      <td>2.18</td>\n",
              "      <td>7.8</td>\n",
              "      <td>0.86</td>\n",
              "      <td>3.45</td>\n",
              "      <td>1480</td>\n",
              "      <td>1</td>\n",
              "    </tr>\n",
              "    <tr>\n",
              "      <th>5</th>\n",
              "      <td>13.24</td>\n",
              "      <td>2.59</td>\n",
              "      <td>2.87</td>\n",
              "      <td>21</td>\n",
              "      <td>118</td>\n",
              "      <td>2.8</td>\n",
              "      <td>2.69</td>\n",
              "      <td>0.39</td>\n",
              "      <td>1.82</td>\n",
              "      <td>4.32</td>\n",
              "      <td>1.04</td>\n",
              "      <td>2.93</td>\n",
              "      <td>735</td>\n",
              "      <td>1</td>\n",
              "    </tr>\n",
              "    <tr>\n",
              "      <th>6</th>\n",
              "      <td>14.2</td>\n",
              "      <td>1.76</td>\n",
              "      <td>2.45</td>\n",
              "      <td>15.2</td>\n",
              "      <td>112</td>\n",
              "      <td>3.27</td>\n",
              "      <td>3.39</td>\n",
              "      <td>0.34</td>\n",
              "      <td>1.97</td>\n",
              "      <td>6.75</td>\n",
              "      <td>1.05</td>\n",
              "      <td>2.85</td>\n",
              "      <td>1450</td>\n",
              "      <td>1</td>\n",
              "    </tr>\n",
              "    <tr>\n",
              "      <th>7</th>\n",
              "      <td>14.39</td>\n",
              "      <td>1.87</td>\n",
              "      <td>2.45</td>\n",
              "      <td>14.6</td>\n",
              "      <td>96</td>\n",
              "      <td>2.5</td>\n",
              "      <td>2.52</td>\n",
              "      <td>0.3</td>\n",
              "      <td>1.98</td>\n",
              "      <td>5.25</td>\n",
              "      <td>1.02</td>\n",
              "      <td>3.58</td>\n",
              "      <td>1290</td>\n",
              "      <td>1</td>\n",
              "    </tr>\n",
              "    <tr>\n",
              "      <th>8</th>\n",
              "      <td>14.06</td>\n",
              "      <td>2.15</td>\n",
              "      <td>2.61</td>\n",
              "      <td>17.6</td>\n",
              "      <td>121</td>\n",
              "      <td>2.6</td>\n",
              "      <td>2.51</td>\n",
              "      <td>0.31</td>\n",
              "      <td>1.25</td>\n",
              "      <td>5.05</td>\n",
              "      <td>1.06</td>\n",
              "      <td>3.58</td>\n",
              "      <td>1295</td>\n",
              "      <td>1</td>\n",
              "    </tr>\n",
              "    <tr>\n",
              "      <th>9</th>\n",
              "      <td>14.83</td>\n",
              "      <td>1.64</td>\n",
              "      <td>2.17</td>\n",
              "      <td>14</td>\n",
              "      <td>97</td>\n",
              "      <td>2.8</td>\n",
              "      <td>2.98</td>\n",
              "      <td>0.29</td>\n",
              "      <td>1.98</td>\n",
              "      <td>5.2</td>\n",
              "      <td>1.08</td>\n",
              "      <td>2.85</td>\n",
              "      <td>1045</td>\n",
              "      <td>1</td>\n",
              "    </tr>\n",
              "    <tr>\n",
              "      <th>10</th>\n",
              "      <td>13.86</td>\n",
              "      <td>1.35</td>\n",
              "      <td>2.27</td>\n",
              "      <td>16</td>\n",
              "      <td>98</td>\n",
              "      <td>2.98</td>\n",
              "      <td>3.15</td>\n",
              "      <td>0.22</td>\n",
              "      <td>1.85</td>\n",
              "      <td>7.22</td>\n",
              "      <td>1.01</td>\n",
              "      <td>3.55</td>\n",
              "      <td>1045</td>\n",
              "      <td>1</td>\n",
              "    </tr>\n",
              "  </tbody>\n",
              "</table>\n",
              "</div>\n",
              "      <button class=\"colab-df-convert\" onclick=\"convertToInteractive('df-e0092910-af96-4672-8468-bfec5cd493dc')\"\n",
              "              title=\"Convert this dataframe to an interactive table.\"\n",
              "              style=\"display:none;\">\n",
              "        \n",
              "  <svg xmlns=\"http://www.w3.org/2000/svg\" height=\"24px\"viewBox=\"0 0 24 24\"\n",
              "       width=\"24px\">\n",
              "    <path d=\"M0 0h24v24H0V0z\" fill=\"none\"/>\n",
              "    <path d=\"M18.56 5.44l.94 2.06.94-2.06 2.06-.94-2.06-.94-.94-2.06-.94 2.06-2.06.94zm-11 1L8.5 8.5l.94-2.06 2.06-.94-2.06-.94L8.5 2.5l-.94 2.06-2.06.94zm10 10l.94 2.06.94-2.06 2.06-.94-2.06-.94-.94-2.06-.94 2.06-2.06.94z\"/><path d=\"M17.41 7.96l-1.37-1.37c-.4-.4-.92-.59-1.43-.59-.52 0-1.04.2-1.43.59L10.3 9.45l-7.72 7.72c-.78.78-.78 2.05 0 2.83L4 21.41c.39.39.9.59 1.41.59.51 0 1.02-.2 1.41-.59l7.78-7.78 2.81-2.81c.8-.78.8-2.07 0-2.86zM5.41 20L4 18.59l7.72-7.72 1.47 1.35L5.41 20z\"/>\n",
              "  </svg>\n",
              "      </button>\n",
              "      \n",
              "  <style>\n",
              "    .colab-df-container {\n",
              "      display:flex;\n",
              "      flex-wrap:wrap;\n",
              "      gap: 12px;\n",
              "    }\n",
              "\n",
              "    .colab-df-convert {\n",
              "      background-color: #E8F0FE;\n",
              "      border: none;\n",
              "      border-radius: 50%;\n",
              "      cursor: pointer;\n",
              "      display: none;\n",
              "      fill: #1967D2;\n",
              "      height: 32px;\n",
              "      padding: 0 0 0 0;\n",
              "      width: 32px;\n",
              "    }\n",
              "\n",
              "    .colab-df-convert:hover {\n",
              "      background-color: #E2EBFA;\n",
              "      box-shadow: 0px 1px 2px rgba(60, 64, 67, 0.3), 0px 1px 3px 1px rgba(60, 64, 67, 0.15);\n",
              "      fill: #174EA6;\n",
              "    }\n",
              "\n",
              "    [theme=dark] .colab-df-convert {\n",
              "      background-color: #3B4455;\n",
              "      fill: #D2E3FC;\n",
              "    }\n",
              "\n",
              "    [theme=dark] .colab-df-convert:hover {\n",
              "      background-color: #434B5C;\n",
              "      box-shadow: 0px 1px 3px 1px rgba(0, 0, 0, 0.15);\n",
              "      filter: drop-shadow(0px 1px 2px rgba(0, 0, 0, 0.3));\n",
              "      fill: #FFFFFF;\n",
              "    }\n",
              "  </style>\n",
              "\n",
              "      <script>\n",
              "        const buttonEl =\n",
              "          document.querySelector('#df-e0092910-af96-4672-8468-bfec5cd493dc button.colab-df-convert');\n",
              "        buttonEl.style.display =\n",
              "          google.colab.kernel.accessAllowed ? 'block' : 'none';\n",
              "\n",
              "        async function convertToInteractive(key) {\n",
              "          const element = document.querySelector('#df-e0092910-af96-4672-8468-bfec5cd493dc');\n",
              "          const dataTable =\n",
              "            await google.colab.kernel.invokeFunction('convertToInteractive',\n",
              "                                                     [key], {});\n",
              "          if (!dataTable) return;\n",
              "\n",
              "          const docLinkHtml = 'Like what you see? Visit the ' +\n",
              "            '<a target=\"_blank\" href=https://colab.research.google.com/notebooks/data_table.ipynb>data table notebook</a>'\n",
              "            + ' to learn more about interactive tables.';\n",
              "          element.innerHTML = '';\n",
              "          dataTable['output_type'] = 'display_data';\n",
              "          await google.colab.output.renderOutput(dataTable, element);\n",
              "          const docLink = document.createElement('div');\n",
              "          docLink.innerHTML = docLinkHtml;\n",
              "          element.appendChild(docLink);\n",
              "        }\n",
              "      </script>\n",
              "    </div>\n",
              "  </div>\n",
              "  "
            ]
          },
          "metadata": {},
          "execution_count": 93
        }
      ]
    },
    {
      "cell_type": "code",
      "source": [
        "#reanme the columns of the data\n",
        "col_names = ['alcohol', 'malic_acid', 'ash', 'alcalinity_of_ash', 'magnesium', 'total_phenols', 'flavanoids', 'nonflavanoid_phenols', 'proanthocyanins', 'color_intensity', 'hue', 'od280_od315', 'proline', 'class'] # Define new column names\n",
        "\n",
        "#renameing the coulmns of the dataframe\n",
        "wine_df.columns = col_names\n",
        "\n",
        "#print the head\n",
        "wine_df.head()"
      ],
      "metadata": {
        "id": "Rl9K1fR-MKOc",
        "colab": {
          "base_uri": "https://localhost:8080/",
          "height": 206
        },
        "outputId": "0af21688-713b-4c7f-abb3-cf3305f94c24"
      },
      "execution_count": 94,
      "outputs": [
        {
          "output_type": "execute_result",
          "data": {
            "text/plain": [
              "  alcohol malic_acid   ash alcalinity_of_ash magnesium total_phenols  \\\n",
              "1   14.23       1.71  2.43              15.6       127           2.8   \n",
              "2    13.2       1.78  2.14              11.2       100          2.65   \n",
              "3   13.16       2.36  2.67              18.6       101           2.8   \n",
              "4   14.37       1.95   2.5              16.8       113          3.85   \n",
              "5   13.24       2.59  2.87                21       118           2.8   \n",
              "\n",
              "  flavanoids nonflavanoid_phenols proanthocyanins color_intensity   hue  \\\n",
              "1       3.06                 0.28            2.29            5.64  1.04   \n",
              "2       2.76                 0.26            1.28            4.38  1.05   \n",
              "3       3.24                  0.3            2.81            5.68  1.03   \n",
              "4       3.49                 0.24            2.18             7.8  0.86   \n",
              "5       2.69                 0.39            1.82            4.32  1.04   \n",
              "\n",
              "  od280_od315 proline class  \n",
              "1        3.92    1065     1  \n",
              "2         3.4    1050     1  \n",
              "3        3.17    1185     1  \n",
              "4        3.45    1480     1  \n",
              "5        2.93     735     1  "
            ],
            "text/html": [
              "\n",
              "  <div id=\"df-32907dae-4ef6-4c6d-9121-1c8862f18b5c\">\n",
              "    <div class=\"colab-df-container\">\n",
              "      <div>\n",
              "<style scoped>\n",
              "    .dataframe tbody tr th:only-of-type {\n",
              "        vertical-align: middle;\n",
              "    }\n",
              "\n",
              "    .dataframe tbody tr th {\n",
              "        vertical-align: top;\n",
              "    }\n",
              "\n",
              "    .dataframe thead th {\n",
              "        text-align: right;\n",
              "    }\n",
              "</style>\n",
              "<table border=\"1\" class=\"dataframe\">\n",
              "  <thead>\n",
              "    <tr style=\"text-align: right;\">\n",
              "      <th></th>\n",
              "      <th>alcohol</th>\n",
              "      <th>malic_acid</th>\n",
              "      <th>ash</th>\n",
              "      <th>alcalinity_of_ash</th>\n",
              "      <th>magnesium</th>\n",
              "      <th>total_phenols</th>\n",
              "      <th>flavanoids</th>\n",
              "      <th>nonflavanoid_phenols</th>\n",
              "      <th>proanthocyanins</th>\n",
              "      <th>color_intensity</th>\n",
              "      <th>hue</th>\n",
              "      <th>od280_od315</th>\n",
              "      <th>proline</th>\n",
              "      <th>class</th>\n",
              "    </tr>\n",
              "  </thead>\n",
              "  <tbody>\n",
              "    <tr>\n",
              "      <th>1</th>\n",
              "      <td>14.23</td>\n",
              "      <td>1.71</td>\n",
              "      <td>2.43</td>\n",
              "      <td>15.6</td>\n",
              "      <td>127</td>\n",
              "      <td>2.8</td>\n",
              "      <td>3.06</td>\n",
              "      <td>0.28</td>\n",
              "      <td>2.29</td>\n",
              "      <td>5.64</td>\n",
              "      <td>1.04</td>\n",
              "      <td>3.92</td>\n",
              "      <td>1065</td>\n",
              "      <td>1</td>\n",
              "    </tr>\n",
              "    <tr>\n",
              "      <th>2</th>\n",
              "      <td>13.2</td>\n",
              "      <td>1.78</td>\n",
              "      <td>2.14</td>\n",
              "      <td>11.2</td>\n",
              "      <td>100</td>\n",
              "      <td>2.65</td>\n",
              "      <td>2.76</td>\n",
              "      <td>0.26</td>\n",
              "      <td>1.28</td>\n",
              "      <td>4.38</td>\n",
              "      <td>1.05</td>\n",
              "      <td>3.4</td>\n",
              "      <td>1050</td>\n",
              "      <td>1</td>\n",
              "    </tr>\n",
              "    <tr>\n",
              "      <th>3</th>\n",
              "      <td>13.16</td>\n",
              "      <td>2.36</td>\n",
              "      <td>2.67</td>\n",
              "      <td>18.6</td>\n",
              "      <td>101</td>\n",
              "      <td>2.8</td>\n",
              "      <td>3.24</td>\n",
              "      <td>0.3</td>\n",
              "      <td>2.81</td>\n",
              "      <td>5.68</td>\n",
              "      <td>1.03</td>\n",
              "      <td>3.17</td>\n",
              "      <td>1185</td>\n",
              "      <td>1</td>\n",
              "    </tr>\n",
              "    <tr>\n",
              "      <th>4</th>\n",
              "      <td>14.37</td>\n",
              "      <td>1.95</td>\n",
              "      <td>2.5</td>\n",
              "      <td>16.8</td>\n",
              "      <td>113</td>\n",
              "      <td>3.85</td>\n",
              "      <td>3.49</td>\n",
              "      <td>0.24</td>\n",
              "      <td>2.18</td>\n",
              "      <td>7.8</td>\n",
              "      <td>0.86</td>\n",
              "      <td>3.45</td>\n",
              "      <td>1480</td>\n",
              "      <td>1</td>\n",
              "    </tr>\n",
              "    <tr>\n",
              "      <th>5</th>\n",
              "      <td>13.24</td>\n",
              "      <td>2.59</td>\n",
              "      <td>2.87</td>\n",
              "      <td>21</td>\n",
              "      <td>118</td>\n",
              "      <td>2.8</td>\n",
              "      <td>2.69</td>\n",
              "      <td>0.39</td>\n",
              "      <td>1.82</td>\n",
              "      <td>4.32</td>\n",
              "      <td>1.04</td>\n",
              "      <td>2.93</td>\n",
              "      <td>735</td>\n",
              "      <td>1</td>\n",
              "    </tr>\n",
              "  </tbody>\n",
              "</table>\n",
              "</div>\n",
              "      <button class=\"colab-df-convert\" onclick=\"convertToInteractive('df-32907dae-4ef6-4c6d-9121-1c8862f18b5c')\"\n",
              "              title=\"Convert this dataframe to an interactive table.\"\n",
              "              style=\"display:none;\">\n",
              "        \n",
              "  <svg xmlns=\"http://www.w3.org/2000/svg\" height=\"24px\"viewBox=\"0 0 24 24\"\n",
              "       width=\"24px\">\n",
              "    <path d=\"M0 0h24v24H0V0z\" fill=\"none\"/>\n",
              "    <path d=\"M18.56 5.44l.94 2.06.94-2.06 2.06-.94-2.06-.94-.94-2.06-.94 2.06-2.06.94zm-11 1L8.5 8.5l.94-2.06 2.06-.94-2.06-.94L8.5 2.5l-.94 2.06-2.06.94zm10 10l.94 2.06.94-2.06 2.06-.94-2.06-.94-.94-2.06-.94 2.06-2.06.94z\"/><path d=\"M17.41 7.96l-1.37-1.37c-.4-.4-.92-.59-1.43-.59-.52 0-1.04.2-1.43.59L10.3 9.45l-7.72 7.72c-.78.78-.78 2.05 0 2.83L4 21.41c.39.39.9.59 1.41.59.51 0 1.02-.2 1.41-.59l7.78-7.78 2.81-2.81c.8-.78.8-2.07 0-2.86zM5.41 20L4 18.59l7.72-7.72 1.47 1.35L5.41 20z\"/>\n",
              "  </svg>\n",
              "      </button>\n",
              "      \n",
              "  <style>\n",
              "    .colab-df-container {\n",
              "      display:flex;\n",
              "      flex-wrap:wrap;\n",
              "      gap: 12px;\n",
              "    }\n",
              "\n",
              "    .colab-df-convert {\n",
              "      background-color: #E8F0FE;\n",
              "      border: none;\n",
              "      border-radius: 50%;\n",
              "      cursor: pointer;\n",
              "      display: none;\n",
              "      fill: #1967D2;\n",
              "      height: 32px;\n",
              "      padding: 0 0 0 0;\n",
              "      width: 32px;\n",
              "    }\n",
              "\n",
              "    .colab-df-convert:hover {\n",
              "      background-color: #E2EBFA;\n",
              "      box-shadow: 0px 1px 2px rgba(60, 64, 67, 0.3), 0px 1px 3px 1px rgba(60, 64, 67, 0.15);\n",
              "      fill: #174EA6;\n",
              "    }\n",
              "\n",
              "    [theme=dark] .colab-df-convert {\n",
              "      background-color: #3B4455;\n",
              "      fill: #D2E3FC;\n",
              "    }\n",
              "\n",
              "    [theme=dark] .colab-df-convert:hover {\n",
              "      background-color: #434B5C;\n",
              "      box-shadow: 0px 1px 3px 1px rgba(0, 0, 0, 0.15);\n",
              "      filter: drop-shadow(0px 1px 2px rgba(0, 0, 0, 0.3));\n",
              "      fill: #FFFFFF;\n",
              "    }\n",
              "  </style>\n",
              "\n",
              "      <script>\n",
              "        const buttonEl =\n",
              "          document.querySelector('#df-32907dae-4ef6-4c6d-9121-1c8862f18b5c button.colab-df-convert');\n",
              "        buttonEl.style.display =\n",
              "          google.colab.kernel.accessAllowed ? 'block' : 'none';\n",
              "\n",
              "        async function convertToInteractive(key) {\n",
              "          const element = document.querySelector('#df-32907dae-4ef6-4c6d-9121-1c8862f18b5c');\n",
              "          const dataTable =\n",
              "            await google.colab.kernel.invokeFunction('convertToInteractive',\n",
              "                                                     [key], {});\n",
              "          if (!dataTable) return;\n",
              "\n",
              "          const docLinkHtml = 'Like what you see? Visit the ' +\n",
              "            '<a target=\"_blank\" href=https://colab.research.google.com/notebooks/data_table.ipynb>data table notebook</a>'\n",
              "            + ' to learn more about interactive tables.';\n",
              "          element.innerHTML = '';\n",
              "          dataTable['output_type'] = 'display_data';\n",
              "          await google.colab.output.renderOutput(dataTable, element);\n",
              "          const docLink = document.createElement('div');\n",
              "          docLink.innerHTML = docLinkHtml;\n",
              "          element.appendChild(docLink);\n",
              "        }\n",
              "      </script>\n",
              "    </div>\n",
              "  </div>\n",
              "  "
            ]
          },
          "metadata": {},
          "execution_count": 94
        }
      ]
    },
    {
      "cell_type": "code",
      "source": [
        "#check the shape of the dataframe\n",
        "wine_df.shape"
      ],
      "metadata": {
        "colab": {
          "base_uri": "https://localhost:8080/"
        },
        "id": "Lb0hHxUPY8BL",
        "outputId": "c4a597c5-2a6f-48ac-efec-481ac7fc98e1"
      },
      "execution_count": 95,
      "outputs": [
        {
          "output_type": "execute_result",
          "data": {
            "text/plain": [
              "(178, 14)"
            ]
          },
          "metadata": {},
          "execution_count": 95
        }
      ]
    },
    {
      "cell_type": "code",
      "source": [
        "#check the summary of the dataframe\n",
        "wine_df.info()"
      ],
      "metadata": {
        "id": "tFyxLJ5vMqJT",
        "colab": {
          "base_uri": "https://localhost:8080/"
        },
        "outputId": "7ebaaea2-ed01-44b8-a53c-e885a5706164"
      },
      "execution_count": 96,
      "outputs": [
        {
          "output_type": "stream",
          "name": "stdout",
          "text": [
            "<class 'pandas.core.frame.DataFrame'>\n",
            "Int64Index: 178 entries, 1 to 178\n",
            "Data columns (total 14 columns):\n",
            " #   Column                Non-Null Count  Dtype \n",
            "---  ------                --------------  ----- \n",
            " 0   alcohol               178 non-null    object\n",
            " 1   malic_acid            178 non-null    object\n",
            " 2   ash                   178 non-null    object\n",
            " 3   alcalinity_of_ash     178 non-null    object\n",
            " 4   magnesium             178 non-null    object\n",
            " 5   total_phenols         178 non-null    object\n",
            " 6   flavanoids            178 non-null    object\n",
            " 7   nonflavanoid_phenols  178 non-null    object\n",
            " 8   proanthocyanins       178 non-null    object\n",
            " 9   color_intensity       178 non-null    object\n",
            " 10  hue                   178 non-null    object\n",
            " 11  od280_od315           178 non-null    object\n",
            " 12  proline               178 non-null    object\n",
            " 13  class                 178 non-null    object\n",
            "dtypes: object(14)\n",
            "memory usage: 20.9+ KB\n"
          ]
        }
      ]
    },
    {
      "cell_type": "code",
      "source": [
        "wine_df['class'].value_counts() # Exploring target variable"
      ],
      "metadata": {
        "id": "WY5aEQ9bNdq_",
        "colab": {
          "base_uri": "https://localhost:8080/"
        },
        "outputId": "6889236e-448e-4cb2-9c99-b3ce6451cb9f"
      },
      "execution_count": 97,
      "outputs": [
        {
          "output_type": "execute_result",
          "data": {
            "text/plain": [
              "2    71\n",
              "1    59\n",
              "3    48\n",
              "Name: class, dtype: int64"
            ]
          },
          "metadata": {},
          "execution_count": 97
        }
      ]
    },
    {
      "cell_type": "markdown",
      "source": [
        "## Defining feature vector and target variable"
      ],
      "metadata": {
        "id": "KWWv38vNOFYm"
      }
    },
    {
      "cell_type": "code",
      "source": [
        "X = wine_df.drop(['class'], axis=1) # Drop the target variable\n",
        "y = wine_df['class']\n",
        "X, y"
      ],
      "metadata": {
        "id": "iDmvPoaKOKMi",
        "colab": {
          "base_uri": "https://localhost:8080/"
        },
        "outputId": "048dd97e-f73f-4548-e281-48cb1a72301e"
      },
      "execution_count": 98,
      "outputs": [
        {
          "output_type": "execute_result",
          "data": {
            "text/plain": [
              "(    alcohol malic_acid   ash alcalinity_of_ash magnesium total_phenols  \\\n",
              " 1     14.23       1.71  2.43              15.6       127           2.8   \n",
              " 2      13.2       1.78  2.14              11.2       100          2.65   \n",
              " 3     13.16       2.36  2.67              18.6       101           2.8   \n",
              " 4     14.37       1.95   2.5              16.8       113          3.85   \n",
              " 5     13.24       2.59  2.87                21       118           2.8   \n",
              " ..      ...        ...   ...               ...       ...           ...   \n",
              " 174   13.71       5.65  2.45              20.5        95          1.68   \n",
              " 175    13.4       3.91  2.48                23       102           1.8   \n",
              " 176   13.27       4.28  2.26                20       120          1.59   \n",
              " 177   13.17       2.59  2.37                20       120          1.65   \n",
              " 178   14.13        4.1  2.74              24.5        96          2.05   \n",
              " \n",
              "     flavanoids nonflavanoid_phenols proanthocyanins color_intensity   hue  \\\n",
              " 1         3.06                 0.28            2.29            5.64  1.04   \n",
              " 2         2.76                 0.26            1.28            4.38  1.05   \n",
              " 3         3.24                  0.3            2.81            5.68  1.03   \n",
              " 4         3.49                 0.24            2.18             7.8  0.86   \n",
              " 5         2.69                 0.39            1.82            4.32  1.04   \n",
              " ..         ...                  ...             ...             ...   ...   \n",
              " 174       0.61                 0.52            1.06             7.7  0.64   \n",
              " 175       0.75                 0.43            1.41             7.3   0.7   \n",
              " 176       0.69                 0.43            1.35            10.2  0.59   \n",
              " 177       0.68                 0.53            1.46             9.3   0.6   \n",
              " 178       0.76                 0.56            1.35             9.2  0.61   \n",
              " \n",
              "     od280_od315 proline  \n",
              " 1          3.92    1065  \n",
              " 2           3.4    1050  \n",
              " 3          3.17    1185  \n",
              " 4          3.45    1480  \n",
              " 5          2.93     735  \n",
              " ..          ...     ...  \n",
              " 174        1.74     740  \n",
              " 175        1.56     750  \n",
              " 176        1.56     835  \n",
              " 177        1.62     840  \n",
              " 178         1.6     560  \n",
              " \n",
              " [178 rows x 13 columns], 1      1\n",
              " 2      1\n",
              " 3      1\n",
              " 4      1\n",
              " 5      1\n",
              "       ..\n",
              " 174    3\n",
              " 175    3\n",
              " 176    3\n",
              " 177    3\n",
              " 178    3\n",
              " Name: class, Length: 178, dtype: object)"
            ]
          },
          "metadata": {},
          "execution_count": 98
        }
      ]
    },
    {
      "cell_type": "markdown",
      "source": [
        "##Splitting data"
      ],
      "metadata": {
        "id": "2SPlLQnLOwX_"
      }
    },
    {
      "cell_type": "code",
      "source": [
        "X_train, X_test, y_train, y_test = train_test_split(X, y, test_size=0.25, random_state=1) # 75% training and 25% test\n",
        "X_train.shape, X_test.shape         # Shapes of X_train and X_test"
      ],
      "metadata": {
        "id": "WbGwL4rQO25p",
        "colab": {
          "base_uri": "https://localhost:8080/"
        },
        "outputId": "fe0ab64f-22fa-4992-952f-aa34d9f4aae4"
      },
      "execution_count": 99,
      "outputs": [
        {
          "output_type": "execute_result",
          "data": {
            "text/plain": [
              "((133, 13), (45, 13))"
            ]
          },
          "metadata": {},
          "execution_count": 99
        }
      ]
    },
    {
      "cell_type": "markdown",
      "source": [
        "##Decision tree with the Gini as index"
      ],
      "metadata": {
        "id": "gFwq4Wgsa9ef"
      }
    },
    {
      "cell_type": "markdown",
      "source": [
        "### Building decision tree classifier with the Gini index criterion"
      ],
      "metadata": {
        "id": "rEfKL6AhQofR"
      }
    },
    {
      "cell_type": "code",
      "source": [
        "clf_gini = DecisionTreeClassifier(criterion='gini', max_depth=4, random_state=0) # Create decision tree classifier object\n",
        "clf_gini.fit(X_train, y_train)      # Train the classifier"
      ],
      "metadata": {
        "id": "uRPrxe2hQt0W",
        "colab": {
          "base_uri": "https://localhost:8080/"
        },
        "outputId": "158b3b8d-6b2e-4f4a-a2d4-51cbc07641cb"
      },
      "execution_count": 100,
      "outputs": [
        {
          "output_type": "execute_result",
          "data": {
            "text/plain": [
              "DecisionTreeClassifier(max_depth=4, random_state=0)"
            ]
          },
          "metadata": {},
          "execution_count": 100
        }
      ]
    },
    {
      "cell_type": "markdown",
      "source": [
        "###Predicting results for the test set"
      ],
      "metadata": {
        "id": "XhKvSybZR9Rv"
      }
    },
    {
      "cell_type": "code",
      "source": [
        "y_pred = clf_gini.predict(X_test)\n",
        "y_pred"
      ],
      "metadata": {
        "id": "_7XN3rbgR88Y",
        "colab": {
          "base_uri": "https://localhost:8080/"
        },
        "outputId": "0e90a935-6e85-4bec-bb0b-297d66bd0180"
      },
      "execution_count": 101,
      "outputs": [
        {
          "output_type": "execute_result",
          "data": {
            "text/plain": [
              "array(['3', '2', '1', '2', '1', '3', '2', '1', '3', '2', '1', '1', '2',\n",
              "       '1', '2', '2', '3', '1', '2', '1', '1', '2', '3', '2', '1', '3',\n",
              "       '1', '1', '1', '3', '2', '3', '3', '1', '2', '2', '3', '1', '2',\n",
              "       '1', '1', '2', '3', '1', '1'], dtype=object)"
            ]
          },
          "metadata": {},
          "execution_count": 101
        }
      ]
    },
    {
      "cell_type": "markdown",
      "source": [
        "###Evaluating model"
      ],
      "metadata": {
        "id": "wb3wqwA-SKvi"
      }
    },
    {
      "cell_type": "code",
      "source": [
        "print('Accuracy:', metrics.accuracy_score(y_test, y_pred))"
      ],
      "metadata": {
        "id": "3yp8buUDSPs2",
        "colab": {
          "base_uri": "https://localhost:8080/"
        },
        "outputId": "bcf525f9-2c7e-4764-9b47-8acbc0ae84fb"
      },
      "execution_count": 102,
      "outputs": [
        {
          "output_type": "stream",
          "name": "stdout",
          "text": [
            "Accuracy: 0.9555555555555556\n"
          ]
        }
      ]
    },
    {
      "cell_type": "markdown",
      "source": [
        "###Confusion matrix"
      ],
      "metadata": {
        "id": "RxFSOr1kTYiR"
      }
    },
    {
      "cell_type": "code",
      "source": [
        "from sklearn.metrics import confusion_matrix\n",
        "conf_mat = confusion_matrix(y_test, y_pred)\n",
        "conf_mat"
      ],
      "metadata": {
        "id": "lukUjIBETa1W",
        "colab": {
          "base_uri": "https://localhost:8080/"
        },
        "outputId": "c5df4dc1-932d-4e32-af08-4e6a20b38a56"
      },
      "execution_count": 103,
      "outputs": [
        {
          "output_type": "execute_result",
          "data": {
            "text/plain": [
              "array([[18,  0,  0],\n",
              "       [ 1, 15,  1],\n",
              "       [ 0,  0, 10]])"
            ]
          },
          "metadata": {},
          "execution_count": 103
        }
      ]
    },
    {
      "cell_type": "markdown",
      "source": [
        "### Visualizing decision trees"
      ],
      "metadata": {
        "id": "uHpGbxt7XN_O"
      }
    },
    {
      "cell_type": "code",
      "source": [
        "from six import StringIO\n",
        "from IPython.display import Image\n",
        "from sklearn.tree import export_graphviz\n",
        "import pydotplus\n",
        "\n",
        "dot_data = StringIO()\n",
        "export_graphviz(clf_gini, out_file=dot_data, filled=True, rounded=True, special_characters=True, feature_names=X.columns, class_names=['1', '2', '3'])\n",
        "graph = pydotplus.graph_from_dot_data(dot_data.getvalue())\n",
        "graph.write_png('wine.png')\n",
        "Image(graph.create_png())"
      ],
      "metadata": {
        "id": "a7rUFec2XQFX",
        "colab": {
          "base_uri": "https://localhost:8080/",
          "height": 594
        },
        "outputId": "d459ba9f-96bd-4e78-86df-76bdb77d88b7"
      },
      "execution_count": 104,
      "outputs": [
        {
          "output_type": "execute_result",
          "data": {
            "text/plain": [
              "<IPython.core.display.Image object>"
            ],
            "image/png": "[encoded data removed]"
          },
          "metadata": {},
          "execution_count": 104
        }
      ]
    },
    {
      "cell_type": "markdown",
      "source": [
        "### Classification report"
      ],
      "metadata": {
        "id": "0UKp0lJ5Xs8b"
      }
    },
    {
      "cell_type": "code",
      "source": [
        "from sklearn.metrics import classification_report\n",
        "print(classification_report(y_test, y_pred))"
      ],
      "metadata": {
        "id": "0i5MoHtLXrEl",
        "colab": {
          "base_uri": "https://localhost:8080/"
        },
        "outputId": "2b6e2271-45bf-44a0-aab6-629c3c2fd2fc"
      },
      "execution_count": 105,
      "outputs": [
        {
          "output_type": "stream",
          "name": "stdout",
          "text": [
            "              precision    recall  f1-score   support\n",
            "\n",
            "           1       0.95      1.00      0.97        18\n",
            "           2       1.00      0.88      0.94        17\n",
            "           3       0.91      1.00      0.95        10\n",
            "\n",
            "    accuracy                           0.96        45\n",
            "   macro avg       0.95      0.96      0.95        45\n",
            "weighted avg       0.96      0.96      0.95        45\n",
            "\n"
          ]
        }
      ]
    },
    {
      "cell_type": "markdown",
      "source": [
        "##Decision tree with Entropy as the index"
      ],
      "metadata": {
        "id": "EYLofw_Nb-Lc"
      }
    },
    {
      "cell_type": "markdown",
      "source": [
        "### Building decision tree classifier with the Gini index criterion"
      ],
      "metadata": {
        "id": "v1l_SxXUcNAJ"
      }
    },
    {
      "cell_type": "code",
      "source": [
        "clf_entropy = DecisionTreeClassifier(criterion='entropy', max_depth=4, random_state=0) # Create decision tree classifier object\n",
        "clf_entropy.fit(X_train, y_train)      # Train the classifier"
      ],
      "metadata": {
        "colab": {
          "base_uri": "https://localhost:8080/"
        },
        "id": "kyA44hlrcUky",
        "outputId": "8e836390-297d-4620-86dc-45fba696ef52"
      },
      "execution_count": 106,
      "outputs": [
        {
          "output_type": "execute_result",
          "data": {
            "text/plain": [
              "DecisionTreeClassifier(criterion='entropy', max_depth=4, random_state=0)"
            ]
          },
          "metadata": {},
          "execution_count": 106
        }
      ]
    },
    {
      "cell_type": "markdown",
      "source": [
        "###Predicting results for the test set"
      ],
      "metadata": {
        "id": "DN-9a_G8ciaI"
      }
    },
    {
      "cell_type": "code",
      "source": [
        "y_pred = clf_entropy.predict(X_test)\n",
        "y_pred"
      ],
      "metadata": {
        "colab": {
          "base_uri": "https://localhost:8080/"
        },
        "id": "ZAA9_D92cjlA",
        "outputId": "6d7a7391-226f-4a98-e7d1-9712ab6708e9"
      },
      "execution_count": 107,
      "outputs": [
        {
          "output_type": "execute_result",
          "data": {
            "text/plain": [
              "array(['3', '2', '1', '2', '1', '3', '2', '1', '3', '2', '1', '2', '2',\n",
              "       '1', '2', '2', '3', '1', '2', '1', '1', '2', '3', '1', '1', '3',\n",
              "       '1', '1', '1', '3', '2', '3', '3', '1', '2', '2', '2', '2', '2',\n",
              "       '1', '1', '2', '3', '1', '1'], dtype=object)"
            ]
          },
          "metadata": {},
          "execution_count": 107
        }
      ]
    },
    {
      "cell_type": "markdown",
      "source": [
        "###Evaluating model"
      ],
      "metadata": {
        "id": "wqEEMQurdX8k"
      }
    },
    {
      "cell_type": "code",
      "source": [
        "print('Accuracy:', metrics.accuracy_score(y_test, y_pred))"
      ],
      "metadata": {
        "colab": {
          "base_uri": "https://localhost:8080/"
        },
        "id": "O1QuzX2wcsyP",
        "outputId": "cab7e127-8e39-454b-c0fb-c0cac8fc54ac"
      },
      "execution_count": 108,
      "outputs": [
        {
          "output_type": "stream",
          "name": "stdout",
          "text": [
            "Accuracy: 0.9555555555555556\n"
          ]
        }
      ]
    },
    {
      "cell_type": "markdown",
      "source": [
        "###Confusion matrix"
      ],
      "metadata": {
        "id": "hj41QotOdPO_"
      }
    },
    {
      "cell_type": "code",
      "source": [
        "from sklearn.metrics import confusion_matrix\n",
        "conf_mat = confusion_matrix(y_test, y_pred)\n",
        "conf_mat"
      ],
      "metadata": {
        "colab": {
          "base_uri": "https://localhost:8080/"
        },
        "id": "cW3StfF9cubI",
        "outputId": "0a07360e-9f7e-4e7d-fe65-e989c4deb965"
      },
      "execution_count": 109,
      "outputs": [
        {
          "output_type": "execute_result",
          "data": {
            "text/plain": [
              "array([[17,  1,  0],\n",
              "       [ 1, 16,  0],\n",
              "       [ 0,  0, 10]])"
            ]
          },
          "metadata": {},
          "execution_count": 109
        }
      ]
    },
    {
      "cell_type": "markdown",
      "source": [
        "### Visualizing decision trees"
      ],
      "metadata": {
        "id": "5G7xLaj9dGow"
      }
    },
    {
      "cell_type": "code",
      "source": [
        "from six import StringIO\n",
        "from IPython.display import Image\n",
        "from sklearn.tree import export_graphviz\n",
        "import pydotplus\n",
        "\n",
        "dot_data = StringIO()\n",
        "export_graphviz(clf_gini, out_file=dot_data, filled=True, rounded=True, special_characters=True, feature_names=X.columns, class_names=['1', '2', '3'])\n",
        "graph = pydotplus.graph_from_dot_data(dot_data.getvalue())\n",
        "graph.write_png('wine.png')\n",
        "Image(graph.create_png())"
      ],
      "metadata": {
        "colab": {
          "base_uri": "https://localhost:8080/",
          "height": 594
        },
        "id": "UUHRu93_c6DP",
        "outputId": "f8f77378-e31e-43a4-a355-5dbce86543b4"
      },
      "execution_count": 110,
      "outputs": [
        {
          "output_type": "execute_result",
          "data": {
            "text/plain": [
              "<IPython.core.display.Image object>"
            ],
            "image/png": "[encoded data removed]"
          },
          "metadata": {},
          "execution_count": 110
        }
      ]
    },
    {
      "cell_type": "markdown",
      "source": [
        "### Classification report"
      ],
      "metadata": {
        "id": "yWPClp7adBk3"
      }
    },
    {
      "cell_type": "code",
      "source": [
        "from sklearn.metrics import classification_report\n",
        "print(classification_report(y_test, y_pred))"
      ],
      "metadata": {
        "colab": {
          "base_uri": "https://localhost:8080/"
        },
        "id": "s9gLCrZSc98J",
        "outputId": "b577d80f-2e2f-477d-9516-807e5c3230c6"
      },
      "execution_count": 54,
      "outputs": [
        {
          "output_type": "stream",
          "name": "stdout",
          "text": [
            "              precision    recall  f1-score   support\n",
            "\n",
            "           1       0.95      1.00      0.97        18\n",
            "           2       1.00      0.88      0.94        17\n",
            "           3       0.91      1.00      0.95        10\n",
            "\n",
            "    accuracy                           0.96        45\n",
            "   macro avg       0.95      0.96      0.95        45\n",
            "weighted avg       0.96      0.96      0.95        45\n",
            "\n"
          ]
        }
      ]
    },
    {
      "cell_type": "markdown",
      "source": [
        "##Pruning for the gini indexed decision tree model"
      ],
      "metadata": {
        "id": "lBNnFL313uyJ"
      }
    },
    {
      "cell_type": "markdown",
      "source": [
        "Let see the alpha parameters or the smoothing parameter of the decision tree model we have built in gini indexed version."
      ],
      "metadata": {
        "id": "tsc5c2fI7ntW"
      }
    },
    {
      "cell_type": "code",
      "source": [
        "path = clf_gini.cost_complexity_pruning_path(X_train, y_train)\n",
        "alphas, impurities = path.ccp_alphas, path.impurities\n",
        "alphas"
      ],
      "metadata": {
        "colab": {
          "base_uri": "https://localhost:8080/"
        },
        "id": "7wAPN39333_M",
        "outputId": "689e88e2-8c6f-4547-dda9-c4ed6ba156a7"
      },
      "execution_count": 79,
      "outputs": [
        {
          "output_type": "execute_result",
          "data": {
            "text/plain": [
              "array([0.        , 0.02857143, 0.12089046, 0.25451322])"
            ]
          },
          "metadata": {},
          "execution_count": 79
        }
      ]
    },
    {
      "cell_type": "markdown",
      "source": [
        "We can see that there are 4 alphas related to our model. We can implement decision trees for all of those alpha values and train those models."
      ],
      "metadata": {
        "id": "chpXkRxN71AD"
      }
    },
    {
      "cell_type": "code",
      "source": [
        "clfs = []\n",
        "for alpha in alphas:\n",
        "    clf = DecisionTreeClassifier(random_state=0, ccp_alpha=alpha)\n",
        "    clf.fit(X_train, y_train)\n",
        "    clfs.append(clf)"
      ],
      "metadata": {
        "id": "dWoE8Gm66YJC"
      },
      "execution_count": 80,
      "outputs": []
    },
    {
      "cell_type": "markdown",
      "source": [
        "Now we need to see the accuracy of each model(corresponding to each alpha) and determine the most suitable alpha that gives the best accuracy for both training and test datasets."
      ],
      "metadata": {
        "id": "OV9rWHSc8G2i"
      }
    },
    {
      "cell_type": "code",
      "source": [
        "import matplotlib.pyplot as plt\n",
        "\n",
        "train_acc = []\n",
        "test_acc = []\n",
        "for c in clfs:\n",
        "    y_train_pred = c.predict(X_train)\n",
        "    y_test_pred = c.predict(X_test)\n",
        "    train_acc.append(metrics.accuracy_score(y_train_pred,y_train))\n",
        "    test_acc.append(metrics.accuracy_score(y_test_pred,y_test))\n",
        "\n",
        "plt.scatter(alphas,train_acc)\n",
        "plt.scatter(alphas,test_acc)\n",
        "plt.plot(alphas,train_acc,label='train_accuracy',drawstyle=\"steps-post\")\n",
        "plt.plot(alphas,test_acc,label='test_accuracy',drawstyle=\"steps-post\")\n",
        "plt.legend()\n",
        "plt.ylabel(\"Accuracy\")\n",
        "plt.xlabel(\"Alpha\")\n",
        "plt.title('Accuracy vs alpha')\n",
        "plt.show()"
      ],
      "metadata": {
        "colab": {
          "base_uri": "https://localhost:8080/",
          "height": 295
        },
        "id": "7kwZq_-j6m5A",
        "outputId": "7ca3eab5-73b2-46da-e57e-eea634ab6804"
      },
      "execution_count": 81,
      "outputs": [
        {
          "output_type": "display_data",
          "data": {
            "text/plain": [
              "<Figure size 432x288 with 1 Axes>"
            ],
            "image/png": "[encoded data removed]"
          },
          "metadata": {
            "needs_background": "light"
          }
        }
      ]
    },
    {
      "cell_type": "code",
      "source": [
        "clfs = clfs[:-1]\n",
        "alphas = alphas[:-1]\n",
        "node_counts = [clf.tree_.node_count for clf in clfs]\n",
        "depth = [clf.tree_.max_depth for clf in clfs]\n",
        "plt.scatter(alphas,node_counts)\n",
        "plt.scatter(alphas,depth)\n",
        "plt.plot(alphas,node_counts,label='no of nodes',drawstyle=\"steps-post\")\n",
        "plt.plot(alphas,depth,label='depth',drawstyle=\"steps-post\")\n",
        "plt.xlabel(\"Alpha\")\n",
        "plt.legend()\n",
        "plt.show()"
      ],
      "metadata": {
        "colab": {
          "base_uri": "https://localhost:8080/",
          "height": 279
        },
        "id": "PK6FcgB87Vu1",
        "outputId": "1565d4b8-9fbf-4e1f-ed22-9810e17b15f5"
      },
      "execution_count": 82,
      "outputs": [
        {
          "output_type": "display_data",
          "data": {
            "text/plain": [
              "<Figure size 432x288 with 1 Axes>"
            ],
            "image/png": "[encoded data removed]"
          },
          "metadata": {
            "needs_background": "light"
          }
        }
      ]
    }
  ]
}